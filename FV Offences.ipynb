{
 "cells": [
  {
   "cell_type": "markdown",
   "id": "1df737bc",
   "metadata": {},
   "source": [
    "# Family Violence Incidents in Victoria 2023"
   ]
  },
  {
   "cell_type": "code",
   "execution_count": 1,
   "id": "67fb13b3",
   "metadata": {},
   "outputs": [],
   "source": [
    "import pandas as pd\n",
    "import numpy as np\n",
    "import matplotlib as plt"
   ]
  },
  {
   "cell_type": "code",
   "execution_count": 6,
   "id": "493ff874",
   "metadata": {
    "collapsed": true
   },
   "outputs": [
    {
     "data": {
      "text/html": [
       "<div>\n",
       "<style scoped>\n",
       "    .dataframe tbody tr th:only-of-type {\n",
       "        vertical-align: middle;\n",
       "    }\n",
       "\n",
       "    .dataframe tbody tr th {\n",
       "        vertical-align: top;\n",
       "    }\n",
       "\n",
       "    .dataframe thead th {\n",
       "        text-align: right;\n",
       "    }\n",
       "</style>\n",
       "<table border=\"1\" class=\"dataframe\">\n",
       "  <thead>\n",
       "    <tr style=\"text-align: right;\">\n",
       "      <th></th>\n",
       "      <th>Year</th>\n",
       "      <th>Year ending</th>\n",
       "      <th>Local Government Area</th>\n",
       "      <th>Postcode</th>\n",
       "      <th>Suburb/Town Name</th>\n",
       "      <th>Offence Division</th>\n",
       "      <th>Offence Subdivision</th>\n",
       "      <th>Offence Subgroup</th>\n",
       "      <th>Offence Count</th>\n",
       "    </tr>\n",
       "  </thead>\n",
       "  <tbody>\n",
       "    <tr>\n",
       "      <th>0</th>\n",
       "      <td>2023</td>\n",
       "      <td>March</td>\n",
       "      <td>Alpine</td>\n",
       "      <td>3691</td>\n",
       "      <td>Dederang</td>\n",
       "      <td>A Crimes against the person</td>\n",
       "      <td>A20 Assault and related offences</td>\n",
       "      <td>A212 Non-FV Serious assault</td>\n",
       "      <td>1</td>\n",
       "    </tr>\n",
       "    <tr>\n",
       "      <th>1</th>\n",
       "      <td>2023</td>\n",
       "      <td>March</td>\n",
       "      <td>Alpine</td>\n",
       "      <td>3691</td>\n",
       "      <td>Dederang</td>\n",
       "      <td>A Crimes against the person</td>\n",
       "      <td>Other crimes against the person</td>\n",
       "      <td>Other crimes against the person</td>\n",
       "      <td>1</td>\n",
       "    </tr>\n",
       "    <tr>\n",
       "      <th>2</th>\n",
       "      <td>2023</td>\n",
       "      <td>March</td>\n",
       "      <td>Alpine</td>\n",
       "      <td>3691</td>\n",
       "      <td>Dederang</td>\n",
       "      <td>B Property and deception offences</td>\n",
       "      <td>B40 Theft</td>\n",
       "      <td>B42 Steal from a motor vehicle</td>\n",
       "      <td>2</td>\n",
       "    </tr>\n",
       "    <tr>\n",
       "      <th>3</th>\n",
       "      <td>2023</td>\n",
       "      <td>March</td>\n",
       "      <td>Alpine</td>\n",
       "      <td>3691</td>\n",
       "      <td>Dederang</td>\n",
       "      <td>B Property and deception offences</td>\n",
       "      <td>B40 Theft</td>\n",
       "      <td>B49 Other theft</td>\n",
       "      <td>1</td>\n",
       "    </tr>\n",
       "    <tr>\n",
       "      <th>4</th>\n",
       "      <td>2023</td>\n",
       "      <td>March</td>\n",
       "      <td>Alpine</td>\n",
       "      <td>3691</td>\n",
       "      <td>Dederang</td>\n",
       "      <td>D Public order and security offences</td>\n",
       "      <td>D10 Weapons and explosives offences</td>\n",
       "      <td>D11 Firearms offences</td>\n",
       "      <td>1</td>\n",
       "    </tr>\n",
       "    <tr>\n",
       "      <th>...</th>\n",
       "      <td>...</td>\n",
       "      <td>...</td>\n",
       "      <td>...</td>\n",
       "      <td>...</td>\n",
       "      <td>...</td>\n",
       "      <td>...</td>\n",
       "      <td>...</td>\n",
       "      <td>...</td>\n",
       "      <td>...</td>\n",
       "    </tr>\n",
       "    <tr>\n",
       "      <th>359127</th>\n",
       "      <td>2014</td>\n",
       "      <td>March</td>\n",
       "      <td>Yarriambiack</td>\n",
       "      <td>3489</td>\n",
       "      <td>Tempy</td>\n",
       "      <td>B Property and deception offences</td>\n",
       "      <td>B20 Property damage</td>\n",
       "      <td>B21 Criminal damage</td>\n",
       "      <td>1</td>\n",
       "    </tr>\n",
       "    <tr>\n",
       "      <th>359128</th>\n",
       "      <td>2014</td>\n",
       "      <td>March</td>\n",
       "      <td>Yarriambiack</td>\n",
       "      <td>3489</td>\n",
       "      <td>Tempy</td>\n",
       "      <td>B Property and deception offences</td>\n",
       "      <td>B30 Burglary/Break and enter</td>\n",
       "      <td>B322 Non-residential non-aggravated burglary</td>\n",
       "      <td>1</td>\n",
       "    </tr>\n",
       "    <tr>\n",
       "      <th>359129</th>\n",
       "      <td>2014</td>\n",
       "      <td>March</td>\n",
       "      <td>Yarriambiack</td>\n",
       "      <td>3489</td>\n",
       "      <td>Tempy</td>\n",
       "      <td>E Justice procedures offences</td>\n",
       "      <td>E20 Breaches of orders</td>\n",
       "      <td>E22 Breach intervention order</td>\n",
       "      <td>1</td>\n",
       "    </tr>\n",
       "    <tr>\n",
       "      <th>359130</th>\n",
       "      <td>2014</td>\n",
       "      <td>March</td>\n",
       "      <td>Yarriambiack</td>\n",
       "      <td>3491</td>\n",
       "      <td>Patchewollock</td>\n",
       "      <td>A Crimes against the person</td>\n",
       "      <td>A20 Assault and related offences</td>\n",
       "      <td>A212 Non-FV Serious assault</td>\n",
       "      <td>1</td>\n",
       "    </tr>\n",
       "    <tr>\n",
       "      <th>359131</th>\n",
       "      <td>2014</td>\n",
       "      <td>March</td>\n",
       "      <td>Yarriambiack</td>\n",
       "      <td>3491</td>\n",
       "      <td>Patchewollock</td>\n",
       "      <td>A Crimes against the person</td>\n",
       "      <td>Other crimes against the person</td>\n",
       "      <td>Other crimes against the person</td>\n",
       "      <td>1</td>\n",
       "    </tr>\n",
       "  </tbody>\n",
       "</table>\n",
       "<p>359132 rows × 9 columns</p>\n",
       "</div>"
      ],
      "text/plain": [
       "        Year Year ending Local Government Area  Postcode Suburb/Town Name  \\\n",
       "0       2023       March                Alpine      3691         Dederang   \n",
       "1       2023       March                Alpine      3691         Dederang   \n",
       "2       2023       March                Alpine      3691         Dederang   \n",
       "3       2023       March                Alpine      3691         Dederang   \n",
       "4       2023       March                Alpine      3691         Dederang   \n",
       "...      ...         ...                   ...       ...              ...   \n",
       "359127  2014       March          Yarriambiack      3489            Tempy   \n",
       "359128  2014       March          Yarriambiack      3489            Tempy   \n",
       "359129  2014       March          Yarriambiack      3489            Tempy   \n",
       "359130  2014       March          Yarriambiack      3491    Patchewollock   \n",
       "359131  2014       March          Yarriambiack      3491    Patchewollock   \n",
       "\n",
       "                            Offence Division  \\\n",
       "0                A Crimes against the person   \n",
       "1                A Crimes against the person   \n",
       "2          B Property and deception offences   \n",
       "3          B Property and deception offences   \n",
       "4       D Public order and security offences   \n",
       "...                                      ...   \n",
       "359127     B Property and deception offences   \n",
       "359128     B Property and deception offences   \n",
       "359129         E Justice procedures offences   \n",
       "359130           A Crimes against the person   \n",
       "359131           A Crimes against the person   \n",
       "\n",
       "                        Offence Subdivision  \\\n",
       "0          A20 Assault and related offences   \n",
       "1           Other crimes against the person   \n",
       "2                                 B40 Theft   \n",
       "3                                 B40 Theft   \n",
       "4       D10 Weapons and explosives offences   \n",
       "...                                     ...   \n",
       "359127                  B20 Property damage   \n",
       "359128         B30 Burglary/Break and enter   \n",
       "359129               E20 Breaches of orders   \n",
       "359130     A20 Assault and related offences   \n",
       "359131      Other crimes against the person   \n",
       "\n",
       "                                    Offence Subgroup  Offence Count   \n",
       "0                        A212 Non-FV Serious assault              1   \n",
       "1                    Other crimes against the person              1   \n",
       "2                     B42 Steal from a motor vehicle              2   \n",
       "3                                    B49 Other theft              1   \n",
       "4                              D11 Firearms offences              1   \n",
       "...                                              ...             ...  \n",
       "359127                           B21 Criminal damage              1   \n",
       "359128  B322 Non-residential non-aggravated burglary              1   \n",
       "359129                 E22 Breach intervention order              1   \n",
       "359130                   A212 Non-FV Serious assault              1   \n",
       "359131               Other crimes against the person              1   \n",
       "\n",
       "[359132 rows x 9 columns]"
      ]
     },
     "execution_count": 6,
     "metadata": {},
     "output_type": "execute_result"
    }
   ],
   "source": [
    "df1 = pd.read_csv(r\"C:\\Users\\user\\Desktop\\Crime_Data_Project\\Crime_Stats_Table_3.csv\")\n",
    "df1"
   ]
  },
  {
   "cell_type": "code",
   "execution_count": 7,
   "id": "f05d6e2b",
   "metadata": {},
   "outputs": [],
   "source": [
    "df2 = pd.read_csv(r\"C:\\Users\\user\\Desktop\\Crime_Data_Project\\Crime_Stats_Table_1.csv\")"
   ]
  },
  {
   "cell_type": "markdown",
   "id": "4a78cf82",
   "metadata": {},
   "source": [
    "# filter for FV \"Offence Subgroup\", w/o non-FV"
   ]
  },
  {
   "cell_type": "code",
   "execution_count": 13,
   "id": "f1e1ab60",
   "metadata": {},
   "outputs": [],
   "source": [
    "FV_Table_w_non = df1[df1['Offence Subgroup'].str.contains('FV')]"
   ]
  },
  {
   "cell_type": "code",
   "execution_count": 22,
   "id": "99bc38e6",
   "metadata": {},
   "outputs": [],
   "source": [
    "df1FV = FV_Table_w_non[FV_Table_w_non['Offence Subgroup'].str.contains('Non-FV') ==False]"
   ]
  },
  {
   "cell_type": "code",
   "execution_count": 23,
   "id": "858a4602",
   "metadata": {
    "scrolled": true
   },
   "outputs": [
    {
     "data": {
      "text/html": [
       "<div>\n",
       "<style scoped>\n",
       "    .dataframe tbody tr th:only-of-type {\n",
       "        vertical-align: middle;\n",
       "    }\n",
       "\n",
       "    .dataframe tbody tr th {\n",
       "        vertical-align: top;\n",
       "    }\n",
       "\n",
       "    .dataframe thead th {\n",
       "        text-align: right;\n",
       "    }\n",
       "</style>\n",
       "<table border=\"1\" class=\"dataframe\">\n",
       "  <thead>\n",
       "    <tr style=\"text-align: right;\">\n",
       "      <th></th>\n",
       "      <th>Year</th>\n",
       "      <th>Year ending</th>\n",
       "      <th>Local Government Area</th>\n",
       "      <th>Postcode</th>\n",
       "      <th>Suburb/Town Name</th>\n",
       "      <th>Offence Division</th>\n",
       "      <th>Offence Subdivision</th>\n",
       "      <th>Offence Subgroup</th>\n",
       "      <th>Offence Count</th>\n",
       "    </tr>\n",
       "  </thead>\n",
       "  <tbody>\n",
       "    <tr>\n",
       "      <th>8</th>\n",
       "      <td>2023</td>\n",
       "      <td>March</td>\n",
       "      <td>Alpine</td>\n",
       "      <td>3691</td>\n",
       "      <td>Running Creek</td>\n",
       "      <td>A Crimes against the person</td>\n",
       "      <td>A70 Stalking, harassment and threatening behav...</td>\n",
       "      <td>A731 FV Threatening behaviour</td>\n",
       "      <td>1</td>\n",
       "    </tr>\n",
       "    <tr>\n",
       "      <th>10</th>\n",
       "      <td>2023</td>\n",
       "      <td>March</td>\n",
       "      <td>Alpine</td>\n",
       "      <td>3697</td>\n",
       "      <td>Tawonga</td>\n",
       "      <td>A Crimes against the person</td>\n",
       "      <td>A20 Assault and related offences</td>\n",
       "      <td>A211 FV Serious assault</td>\n",
       "      <td>1</td>\n",
       "    </tr>\n",
       "    <tr>\n",
       "      <th>11</th>\n",
       "      <td>2023</td>\n",
       "      <td>March</td>\n",
       "      <td>Alpine</td>\n",
       "      <td>3697</td>\n",
       "      <td>Tawonga</td>\n",
       "      <td>A Crimes against the person</td>\n",
       "      <td>A20 Assault and related offences</td>\n",
       "      <td>A231 FV Common assault</td>\n",
       "      <td>1</td>\n",
       "    </tr>\n",
       "    <tr>\n",
       "      <th>28</th>\n",
       "      <td>2023</td>\n",
       "      <td>March</td>\n",
       "      <td>Alpine</td>\n",
       "      <td>3699</td>\n",
       "      <td>Mount Beauty</td>\n",
       "      <td>A Crimes against the person</td>\n",
       "      <td>A20 Assault and related offences</td>\n",
       "      <td>A211 FV Serious assault</td>\n",
       "      <td>1</td>\n",
       "    </tr>\n",
       "    <tr>\n",
       "      <th>29</th>\n",
       "      <td>2023</td>\n",
       "      <td>March</td>\n",
       "      <td>Alpine</td>\n",
       "      <td>3699</td>\n",
       "      <td>Mount Beauty</td>\n",
       "      <td>A Crimes against the person</td>\n",
       "      <td>A20 Assault and related offences</td>\n",
       "      <td>A231 FV Common assault</td>\n",
       "      <td>1</td>\n",
       "    </tr>\n",
       "    <tr>\n",
       "      <th>...</th>\n",
       "      <td>...</td>\n",
       "      <td>...</td>\n",
       "      <td>...</td>\n",
       "      <td>...</td>\n",
       "      <td>...</td>\n",
       "      <td>...</td>\n",
       "      <td>...</td>\n",
       "      <td>...</td>\n",
       "      <td>...</td>\n",
       "    </tr>\n",
       "    <tr>\n",
       "      <th>359073</th>\n",
       "      <td>2014</td>\n",
       "      <td>March</td>\n",
       "      <td>Yarriambiack</td>\n",
       "      <td>3393</td>\n",
       "      <td>Warracknabeal</td>\n",
       "      <td>A Crimes against the person</td>\n",
       "      <td>A70 Stalking, harassment and threatening behav...</td>\n",
       "      <td>A711 FV Stalking</td>\n",
       "      <td>2</td>\n",
       "    </tr>\n",
       "    <tr>\n",
       "      <th>359075</th>\n",
       "      <td>2014</td>\n",
       "      <td>March</td>\n",
       "      <td>Yarriambiack</td>\n",
       "      <td>3393</td>\n",
       "      <td>Warracknabeal</td>\n",
       "      <td>A Crimes against the person</td>\n",
       "      <td>A70 Stalking, harassment and threatening behav...</td>\n",
       "      <td>A731 FV Threatening behaviour</td>\n",
       "      <td>1</td>\n",
       "    </tr>\n",
       "    <tr>\n",
       "      <th>359110</th>\n",
       "      <td>2014</td>\n",
       "      <td>March</td>\n",
       "      <td>Yarriambiack</td>\n",
       "      <td>3396</td>\n",
       "      <td>Hopetoun</td>\n",
       "      <td>A Crimes against the person</td>\n",
       "      <td>A20 Assault and related offences</td>\n",
       "      <td>A211 FV Serious assault</td>\n",
       "      <td>3</td>\n",
       "    </tr>\n",
       "    <tr>\n",
       "      <th>359111</th>\n",
       "      <td>2014</td>\n",
       "      <td>March</td>\n",
       "      <td>Yarriambiack</td>\n",
       "      <td>3396</td>\n",
       "      <td>Hopetoun</td>\n",
       "      <td>A Crimes against the person</td>\n",
       "      <td>A20 Assault and related offences</td>\n",
       "      <td>A231 FV Common assault</td>\n",
       "      <td>1</td>\n",
       "    </tr>\n",
       "    <tr>\n",
       "      <th>359122</th>\n",
       "      <td>2014</td>\n",
       "      <td>March</td>\n",
       "      <td>Yarriambiack</td>\n",
       "      <td>3487</td>\n",
       "      <td>Lascelles</td>\n",
       "      <td>A Crimes against the person</td>\n",
       "      <td>A20 Assault and related offences</td>\n",
       "      <td>A231 FV Common assault</td>\n",
       "      <td>2</td>\n",
       "    </tr>\n",
       "  </tbody>\n",
       "</table>\n",
       "<p>34667 rows × 9 columns</p>\n",
       "</div>"
      ],
      "text/plain": [
       "        Year Year ending Local Government Area  Postcode Suburb/Town Name  \\\n",
       "8       2023       March                Alpine      3691    Running Creek   \n",
       "10      2023       March                Alpine      3697          Tawonga   \n",
       "11      2023       March                Alpine      3697          Tawonga   \n",
       "28      2023       March                Alpine      3699     Mount Beauty   \n",
       "29      2023       March                Alpine      3699     Mount Beauty   \n",
       "...      ...         ...                   ...       ...              ...   \n",
       "359073  2014       March          Yarriambiack      3393    Warracknabeal   \n",
       "359075  2014       March          Yarriambiack      3393    Warracknabeal   \n",
       "359110  2014       March          Yarriambiack      3396         Hopetoun   \n",
       "359111  2014       March          Yarriambiack      3396         Hopetoun   \n",
       "359122  2014       March          Yarriambiack      3487        Lascelles   \n",
       "\n",
       "                   Offence Division  \\\n",
       "8       A Crimes against the person   \n",
       "10      A Crimes against the person   \n",
       "11      A Crimes against the person   \n",
       "28      A Crimes against the person   \n",
       "29      A Crimes against the person   \n",
       "...                             ...   \n",
       "359073  A Crimes against the person   \n",
       "359075  A Crimes against the person   \n",
       "359110  A Crimes against the person   \n",
       "359111  A Crimes against the person   \n",
       "359122  A Crimes against the person   \n",
       "\n",
       "                                      Offence Subdivision  \\\n",
       "8       A70 Stalking, harassment and threatening behav...   \n",
       "10                       A20 Assault and related offences   \n",
       "11                       A20 Assault and related offences   \n",
       "28                       A20 Assault and related offences   \n",
       "29                       A20 Assault and related offences   \n",
       "...                                                   ...   \n",
       "359073  A70 Stalking, harassment and threatening behav...   \n",
       "359075  A70 Stalking, harassment and threatening behav...   \n",
       "359110                   A20 Assault and related offences   \n",
       "359111                   A20 Assault and related offences   \n",
       "359122                   A20 Assault and related offences   \n",
       "\n",
       "                     Offence Subgroup  Offence Count   \n",
       "8       A731 FV Threatening behaviour              1   \n",
       "10            A211 FV Serious assault              1   \n",
       "11             A231 FV Common assault              1   \n",
       "28            A211 FV Serious assault              1   \n",
       "29             A231 FV Common assault              1   \n",
       "...                               ...             ...  \n",
       "359073               A711 FV Stalking              2   \n",
       "359075  A731 FV Threatening behaviour              1   \n",
       "359110        A211 FV Serious assault              3   \n",
       "359111         A231 FV Common assault              1   \n",
       "359122         A231 FV Common assault              2   \n",
       "\n",
       "[34667 rows x 9 columns]"
      ]
     },
     "execution_count": 23,
     "metadata": {},
     "output_type": "execute_result"
    }
   ],
   "source": [
    "df1FV"
   ]
  },
  {
   "cell_type": "code",
   "execution_count": 36,
   "id": "04ecff57",
   "metadata": {},
   "outputs": [
    {
     "ename": "KeyError",
     "evalue": "'Column not found: Offence Count'",
     "output_type": "error",
     "traceback": [
      "\u001b[1;31m---------------------------------------------------------------------------\u001b[0m",
      "\u001b[1;31mKeyError\u001b[0m                                  Traceback (most recent call last)",
      "Cell \u001b[1;32mIn[36], line 1\u001b[0m\n\u001b[1;32m----> 1\u001b[0m count \u001b[38;5;241m=\u001b[39m df1FV\u001b[38;5;241m.\u001b[39mgroupby(\u001b[38;5;124m'\u001b[39m\u001b[38;5;124mLocal Government Area\u001b[39m\u001b[38;5;124m'\u001b[39m)[\u001b[38;5;124m'\u001b[39m\u001b[38;5;124mOffence Count\u001b[39m\u001b[38;5;124m'\u001b[39m]\u001b[38;5;241m.\u001b[39msum()\n\u001b[0;32m      2\u001b[0m \u001b[38;5;28mprint\u001b[39m(count)\n",
      "File \u001b[1;32m~\\anaconda3\\Lib\\site-packages\\pandas\\core\\groupby\\generic.py:1416\u001b[0m, in \u001b[0;36mDataFrameGroupBy.__getitem__\u001b[1;34m(self, key)\u001b[0m\n\u001b[0;32m   1407\u001b[0m \u001b[38;5;28;01mif\u001b[39;00m \u001b[38;5;28misinstance\u001b[39m(key, \u001b[38;5;28mtuple\u001b[39m) \u001b[38;5;129;01mand\u001b[39;00m \u001b[38;5;28mlen\u001b[39m(key) \u001b[38;5;241m>\u001b[39m \u001b[38;5;241m1\u001b[39m:\n\u001b[0;32m   1408\u001b[0m     \u001b[38;5;66;03m# if len == 1, then it becomes a SeriesGroupBy and this is actually\u001b[39;00m\n\u001b[0;32m   1409\u001b[0m     \u001b[38;5;66;03m# valid syntax, so don't raise warning\u001b[39;00m\n\u001b[0;32m   1410\u001b[0m     warnings\u001b[38;5;241m.\u001b[39mwarn(\n\u001b[0;32m   1411\u001b[0m         \u001b[38;5;124m\"\u001b[39m\u001b[38;5;124mIndexing with multiple keys (implicitly converted to a tuple \u001b[39m\u001b[38;5;124m\"\u001b[39m\n\u001b[0;32m   1412\u001b[0m         \u001b[38;5;124m\"\u001b[39m\u001b[38;5;124mof keys) will be deprecated, use a list instead.\u001b[39m\u001b[38;5;124m\"\u001b[39m,\n\u001b[0;32m   1413\u001b[0m         \u001b[38;5;167;01mFutureWarning\u001b[39;00m,\n\u001b[0;32m   1414\u001b[0m         stacklevel\u001b[38;5;241m=\u001b[39mfind_stack_level(),\n\u001b[0;32m   1415\u001b[0m     )\n\u001b[1;32m-> 1416\u001b[0m \u001b[38;5;28;01mreturn\u001b[39;00m \u001b[38;5;28msuper\u001b[39m()\u001b[38;5;241m.\u001b[39m\u001b[38;5;21m__getitem__\u001b[39m(key)\n",
      "File \u001b[1;32m~\\anaconda3\\Lib\\site-packages\\pandas\\core\\base.py:248\u001b[0m, in \u001b[0;36mSelectionMixin.__getitem__\u001b[1;34m(self, key)\u001b[0m\n\u001b[0;32m    246\u001b[0m \u001b[38;5;28;01melse\u001b[39;00m:\n\u001b[0;32m    247\u001b[0m     \u001b[38;5;28;01mif\u001b[39;00m key \u001b[38;5;129;01mnot\u001b[39;00m \u001b[38;5;129;01min\u001b[39;00m \u001b[38;5;28mself\u001b[39m\u001b[38;5;241m.\u001b[39mobj:\n\u001b[1;32m--> 248\u001b[0m         \u001b[38;5;28;01mraise\u001b[39;00m \u001b[38;5;167;01mKeyError\u001b[39;00m(\u001b[38;5;124mf\u001b[39m\u001b[38;5;124m\"\u001b[39m\u001b[38;5;124mColumn not found: \u001b[39m\u001b[38;5;132;01m{\u001b[39;00mkey\u001b[38;5;132;01m}\u001b[39;00m\u001b[38;5;124m\"\u001b[39m)\n\u001b[0;32m    249\u001b[0m     subset \u001b[38;5;241m=\u001b[39m \u001b[38;5;28mself\u001b[39m\u001b[38;5;241m.\u001b[39mobj[key]\n\u001b[0;32m    250\u001b[0m     ndim \u001b[38;5;241m=\u001b[39m subset\u001b[38;5;241m.\u001b[39mndim\n",
      "\u001b[1;31mKeyError\u001b[0m: 'Column not found: Offence Count'"
     ]
    }
   ],
   "source": [
    "count = df1FV.groupby('Local Government Area')['Offence Count'].sum()\n",
    "print(count)"
   ]
  },
  {
   "cell_type": "markdown",
   "id": "b6b27149",
   "metadata": {},
   "source": [
    "# found white space in column name \"Offence Count\""
   ]
  },
  {
   "cell_type": "code",
   "execution_count": 39,
   "id": "7d40405c",
   "metadata": {},
   "outputs": [],
   "source": [
    "df1FV.columns = df1FV.columns.str.strip()"
   ]
  },
  {
   "cell_type": "code",
   "execution_count": 40,
   "id": "90f36897",
   "metadata": {},
   "outputs": [
    {
     "name": "stdout",
     "output_type": "stream",
     "text": [
      "<class 'pandas.core.frame.DataFrame'>\n",
      "Int64Index: 34667 entries, 8 to 359122\n",
      "Data columns (total 9 columns):\n",
      " #   Column                 Non-Null Count  Dtype \n",
      "---  ------                 --------------  ----- \n",
      " 0   Year                   34667 non-null  int64 \n",
      " 1   Year ending            34667 non-null  object\n",
      " 2   Local Government Area  34667 non-null  object\n",
      " 3   Postcode               34667 non-null  int64 \n",
      " 4   Suburb/Town Name       34667 non-null  object\n",
      " 5   Offence Division       34667 non-null  object\n",
      " 6   Offence Subdivision    34667 non-null  object\n",
      " 7   Offence Subgroup       34667 non-null  object\n",
      " 8   Offence Count          34667 non-null  object\n",
      "dtypes: int64(2), object(7)\n",
      "memory usage: 2.6+ MB\n"
     ]
    }
   ],
   "source": [
    "df1FV.info()"
   ]
  },
  {
   "cell_type": "markdown",
   "id": "68271e38",
   "metadata": {},
   "source": [
    "# found that \"Offence Count\" was dtype object, change to into64"
   ]
  },
  {
   "cell_type": "code",
   "execution_count": 50,
   "id": "1527b4a8",
   "metadata": {},
   "outputs": [
    {
     "name": "stderr",
     "output_type": "stream",
     "text": [
      "C:\\Users\\user\\AppData\\Local\\Temp\\ipykernel_18512\\1777397062.py:1: SettingWithCopyWarning: \n",
      "A value is trying to be set on a copy of a slice from a DataFrame.\n",
      "Try using .loc[row_indexer,col_indexer] = value instead\n",
      "\n",
      "See the caveats in the documentation: https://pandas.pydata.org/pandas-docs/stable/user_guide/indexing.html#returning-a-view-versus-a-copy\n",
      "  df1FV[\"Offence Count\"] = pd.to_numeric(df1FV[\"Offence Count\"])\n"
     ]
    }
   ],
   "source": [
    "df1FV[\"Offence Count\"] = pd.to_numeric(df1FV[\"Offence Count\"])"
   ]
  },
  {
   "cell_type": "code",
   "execution_count": 51,
   "id": "796f8e2f",
   "metadata": {},
   "outputs": [
    {
     "name": "stdout",
     "output_type": "stream",
     "text": [
      "<class 'pandas.core.frame.DataFrame'>\n",
      "Int64Index: 34667 entries, 8 to 359122\n",
      "Data columns (total 9 columns):\n",
      " #   Column                 Non-Null Count  Dtype \n",
      "---  ------                 --------------  ----- \n",
      " 0   Year                   34667 non-null  int64 \n",
      " 1   Year ending            34667 non-null  object\n",
      " 2   Local Government Area  34667 non-null  object\n",
      " 3   Postcode               34667 non-null  int64 \n",
      " 4   Suburb/Town Name       34667 non-null  object\n",
      " 5   Offence Division       34667 non-null  object\n",
      " 6   Offence Subdivision    34667 non-null  object\n",
      " 7   Offence Subgroup       34667 non-null  object\n",
      " 8   Offence Count          34667 non-null  int64 \n",
      "dtypes: int64(3), object(6)\n",
      "memory usage: 2.6+ MB\n"
     ]
    }
   ],
   "source": [
    "df1FV.info()"
   ]
  },
  {
   "cell_type": "code",
   "execution_count": 52,
   "id": "b5af8e64",
   "metadata": {},
   "outputs": [
    {
     "name": "stdout",
     "output_type": "stream",
     "text": [
      "                          Year  Postcode  Offence Count\n",
      "Local Government Area                                  \n",
      "Alpine                  284693    526070            318\n",
      "Ararat                  280564    469401           1011\n",
      "Ballarat               1883531   3127194           5337\n",
      "Banyule                1534078   2344788           4233\n",
      "Bass Coast             1447530   2843404           2742\n",
      "...                        ...       ...            ...\n",
      "Wodonga                 351264    642137           2430\n",
      "Wyndham                 950787   1429196          10760\n",
      "Yarra                   761076   1160353           3420\n",
      "Yarra Ranges           2426473   4179649           5575\n",
      "Yarriambiack            367434    619937            463\n",
      "\n",
      "[79 rows x 3 columns]\n"
     ]
    },
    {
     "name": "stderr",
     "output_type": "stream",
     "text": [
      "C:\\Users\\user\\AppData\\Local\\Temp\\ipykernel_18512\\4194854307.py:1: FutureWarning: The default value of numeric_only in DataFrameGroupBy.sum is deprecated. In a future version, numeric_only will default to False. Either specify numeric_only or select only columns which should be valid for the function.\n",
      "  count = df1FV.groupby('Local Government Area').sum()\n"
     ]
    }
   ],
   "source": [
    "count = df1FV.groupby('Local Government Area').sum()\n",
    "print(count)"
   ]
  },
  {
   "cell_type": "code",
   "execution_count": 70,
   "id": "57ead47b",
   "metadata": {},
   "outputs": [
    {
     "name": "stdout",
     "output_type": "stream",
     "text": [
      "<class 'pandas.core.frame.DataFrame'>\n",
      "Index: 79 entries, Alpine to Yarriambiack\n",
      "Data columns (total 1 columns):\n",
      " #   Column         Non-Null Count  Dtype\n",
      "---  ------         --------------  -----\n",
      " 0   Offence Count  79 non-null     int64\n",
      "dtypes: int64(1)\n",
      "memory usage: 3.3+ KB\n"
     ]
    }
   ],
   "source": [
    "count.info()"
   ]
  },
  {
   "cell_type": "code",
   "execution_count": 71,
   "id": "1a90d65d",
   "metadata": {},
   "outputs": [
    {
     "name": "stdout",
     "output_type": "stream",
     "text": [
      "                       Offence Count\n",
      "Local Government Area               \n",
      "Alpine                           318\n",
      "Ararat                          1011\n",
      "Ballarat                        5337\n",
      "Banyule                         4233\n",
      "Bass Coast                      2742\n",
      "...                              ...\n",
      "Wodonga                         2430\n",
      "Wyndham                        10760\n",
      "Yarra                           3420\n",
      "Yarra Ranges                    5575\n",
      "Yarriambiack                     463\n",
      "\n",
      "[79 rows x 1 columns]\n"
     ]
    }
   ],
   "source": [
    "print(count)"
   ]
  },
  {
   "cell_type": "code",
   "execution_count": 72,
   "id": "dfd58658",
   "metadata": {},
   "outputs": [
    {
     "data": {
      "text/plain": [
       "<Axes: xlabel='Local Government Area'>"
      ]
     },
     "execution_count": 72,
     "metadata": {},
     "output_type": "execute_result"
    },
    {
     "data": {
      "image/png": "[encoded data removed]",
      "text/plain": [
       "<Figure size 640x480 with 1 Axes>"
      ]
     },
     "metadata": {},
     "output_type": "display_data"
    }
   ],
   "source": [
    "count.plot()"
   ]
  },
  {
   "cell_type": "code",
   "execution_count": null,
   "id": "ad052b77",
   "metadata": {},
   "outputs": [],
   "source": []
  }
 ],
 "metadata": {
  "kernelspec": {
   "display_name": "Python 3 (ipykernel)",
   "language": "python",
   "name": "python3"
  },
  "language_info": {
   "codemirror_mode": {
    "name": "ipython",
    "version": 3
   },
   "file_extension": ".py",
   "mimetype": "text/x-python",
   "name": "python",
   "nbconvert_exporter": "python",
   "pygments_lexer": "ipython3",
   "version": "3.11.4"
  }
 },
 "nbformat": 4,
 "nbformat_minor": 5
}
